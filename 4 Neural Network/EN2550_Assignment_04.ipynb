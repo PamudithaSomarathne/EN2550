{
  "nbformat": 4,
  "nbformat_minor": 0,
  "metadata": {
    "colab": {
      "name": "EN2550_Assignment_04.ipynb",
      "provenance": [],
      "authorship_tag": "ABX9TyOn/bI1mhj8juCXahFFaKwq",
      "include_colab_link": true
    },
    "kernelspec": {
      "name": "python3",
      "display_name": "Python 3"
    }
  },
  "cells": [
    {
      "cell_type": "markdown",
      "metadata": {
        "id": "view-in-github",
        "colab_type": "text"
      },
      "source": [
        "<a href=\"https://colab.research.google.com/github/PamudithaSomarathne/EN2550/blob/master/4%20Neural%20Network/EN2550_Assignment_04.ipynb\" target=\"_parent\"><img src=\"https://colab.research.google.com/assets/colab-badge.svg\" alt=\"Open In Colab\"/></a>"
      ]
    },
    {
      "cell_type": "code",
      "metadata": {
        "colab": {
          "base_uri": "https://localhost:8080/"
        },
        "id": "gBdw18SFeFYe",
        "outputId": "a904c135-5b1c-44c2-ebc5-c08096e86c6f"
      },
      "source": [
        "# Import libraries\r\n",
        "import tensorflow as tf\r\n",
        "from tensorflow import keras\r\n",
        "import numpy as np\r\n",
        "import matplotlib.pyplot as plt\r\n",
        "\r\n",
        "# Download and categorize data\r\n",
        "(x_train, y_train), (x_test, y_test) = keras.datasets.cifar10.load_data()\r\n",
        "print(\"Training data size :\", x_train.shape, \"\\nTraining label size :\",\\\r\n",
        "      y_train.shape, \"\\nTest data size :\", x_test.shape, \"\\nTest label size :\",\\\r\n",
        "      y_test.shape)\r\n",
        "K = len(np.unique(y_train))\r\n",
        "print(\"No of classes :\", K)\r\n",
        "\r\n",
        "# Compute data parameters\r\n",
        "Ntr = x_train.shape[0]\r\n",
        "Nte = x_test.shape[0]\r\n",
        "Din = x_train[0].size\r\n",
        "\r\n",
        "# Normalize pixel values\r\n",
        "x_train, x_test = x_train/255.0, x_test/255.0\r\n",
        "mean_image = np.mean(x_train, axis=0)\r\n",
        "x_train = x_train - mean_image\r\n",
        "x_test = x_test - mean_image\r\n",
        "\r\n",
        "# Convert labels from integers to binary\r\n",
        "y_train = keras.utils.to_categorical(y_train, num_classes=K)\r\n",
        "y_test = keras.utils.to_categorical(y_test, num_classes=K)\r\n",
        "\r\n",
        "# Reshape data and convert to float32                       # Wasn't them converted when normalizing???\r\n",
        "x_train = x_train.reshape((Ntr,Din)).astype(np.float32)\r\n",
        "x_test = x_test.reshape((Nte,Din)).astype(np.float32)"
      ],
      "execution_count": 1,
      "outputs": [
        {
          "output_type": "stream",
          "text": [
            "Downloading data from https://www.cs.toronto.edu/~kriz/cifar-10-python.tar.gz\n",
            "170500096/170498071 [==============================] - 3s 0us/step\n",
            "Training data size : (50000, 32, 32, 3) \n",
            "Training label size : (50000, 1) \n",
            "Test data size : (10000, 32, 32, 3) \n",
            "Test label size : (10000, 1)\n",
            "No of classes : 10\n"
          ],
          "name": "stdout"
        }
      ]
    },
    {
      "cell_type": "code",
      "metadata": {
        "id": "928dc8XJeTdj"
      },
      "source": [
        ""
      ],
      "execution_count": null,
      "outputs": []
    }
  ]
}