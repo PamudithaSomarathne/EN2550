{
  "nbformat": 4,
  "nbformat_minor": 0,
  "metadata": {
    "colab": {
      "name": "EN2550_Assignment_05.ipynb",
      "provenance": [],
      "collapsed_sections": [],
      "authorship_tag": "ABX9TyME97/7jzZXbhXQtDta1+eq",
      "include_colab_link": true
    },
    "kernelspec": {
      "name": "python3",
      "display_name": "Python 3"
    }
  },
  "cells": [
    {
      "cell_type": "markdown",
      "metadata": {
        "id": "view-in-github",
        "colab_type": "text"
      },
      "source": [
        "<a href=\"https://colab.research.google.com/github/PamudithaSomarathne/EN2550/blob/master/4%20Neural%20Network/EN2550_Assignment_05.ipynb\" target=\"_parent\"><img src=\"https://colab.research.google.com/assets/colab-badge.svg\" alt=\"Open In Colab\"/></a>"
      ]
    },
    {
      "cell_type": "code",
      "metadata": {
        "colab": {
          "base_uri": "https://localhost:8080/"
        },
        "id": "MC7oRSOGY6S3",
        "outputId": "872f8bde-957d-46c9-f408-f24aabaa48e3"
      },
      "source": [
        "!git clone https://github.com/PamudithaSomarathne/EN2550/"
      ],
      "execution_count": 3,
      "outputs": [
        {
          "output_type": "stream",
          "text": [
            "Cloning into 'EN2550'...\n",
            "remote: Enumerating objects: 88, done.\u001b[K\n",
            "remote: Counting objects: 100% (88/88), done.\u001b[K\n",
            "remote: Compressing objects: 100% (70/70), done.\u001b[K\n",
            "remote: Total 195 (delta 21), reused 79 (delta 15), pack-reused 107\u001b[K\n",
            "Receiving objects: 100% (195/195), 129.47 MiB | 32.60 MiB/s, done.\n",
            "Resolving deltas: 100% (33/33), done.\n"
          ],
          "name": "stdout"
        }
      ]
    },
    {
      "cell_type": "markdown",
      "metadata": {
        "id": "jMOfuSOQcqjh"
      },
      "source": [
        "# Download and prepare the data for next stages"
      ]
    },
    {
      "cell_type": "code",
      "metadata": {
        "colab": {
          "base_uri": "https://localhost:8080/"
        },
        "id": "1biROal6Z8qJ",
        "outputId": "3884802e-7625-496f-b052-e34695366926"
      },
      "source": [
        "# Import libraries\r\n",
        "import tensorflow as tf\r\n",
        "from tensorflow import keras\r\n",
        "import numpy as np\r\n",
        "import matplotlib.pyplot as plt\r\n",
        "\r\n",
        "# Download and categorize data\r\n",
        "(x_train, y_train), (x_test, y_test) = keras.datasets.cifar10.load_data()\r\n",
        "print(\"Training data size :\", x_train.shape, \"\\nTraining label size :\",\\\r\n",
        "      y_train.shape, \"\\nTest data size :\", x_test.shape, \"\\nTest label size :\",\\\r\n",
        "      y_test.shape)\r\n",
        "K = len(np.unique(y_train))\r\n",
        "print(\"No of classes :\", K)\r\n",
        "\r\n",
        "# Compute data parameters\r\n",
        "Ntr = x_train.shape[0]\r\n",
        "Nte = x_test.shape[0]\r\n",
        "Din = x_train[0].size\r\n",
        "\r\n",
        "# Normalize pixel values\r\n",
        "x_train, x_test = x_train/255.0, x_test/255.0\r\n",
        "mean_image = np.mean(x_train, axis=0)\r\n",
        "x_train = x_train - mean_image\r\n",
        "x_test = x_test - mean_image\r\n",
        "\r\n",
        "# Convert labels from integers to binary\r\n",
        "y_train = keras.utils.to_categorical(y_train, num_classes=K)\r\n",
        "y_test = keras.utils.to_categorical(y_test, num_classes=K)\r\n",
        "\r\n",
        "# Reshape data and convert to float32                       # Wasn't them converted when normalizing???\r\n",
        "x_train = x_train.reshape((Ntr,Din)).astype(np.float32)\r\n",
        "x_test = x_test.reshape((Nte,Din)).astype(np.float32)"
      ],
      "execution_count": 13,
      "outputs": [
        {
          "output_type": "stream",
          "text": [
            "Training data size : (50000, 32, 32, 3) \n",
            "Training label size : (50000, 1) \n",
            "Test data size : (10000, 32, 32, 3) \n",
            "Test label size : (10000, 1)\n",
            "No of classes : 10\n"
          ],
          "name": "stdout"
        }
      ]
    },
    {
      "cell_type": "markdown",
      "metadata": {
        "id": "fUep4OxVZ2DU"
      },
      "source": [
        "# Question 1: Linear classifier"
      ]
    },
    {
      "cell_type": "code",
      "metadata": {
        "colab": {
          "base_uri": "https://localhost:8080/"
        },
        "id": "oBLc0Z85Z1BN",
        "outputId": "839a229e-7220-4584-8f1f-e3feef3afa27"
      },
      "source": [
        ""
      ],
      "execution_count": 12,
      "outputs": [
        {
          "output_type": "stream",
          "text": [
            "3072\n"
          ],
          "name": "stdout"
        }
      ]
    },
    {
      "cell_type": "code",
      "metadata": {
        "id": "D37r86W6bN11"
      },
      "source": [
        ""
      ],
      "execution_count": null,
      "outputs": []
    }
  ]
}